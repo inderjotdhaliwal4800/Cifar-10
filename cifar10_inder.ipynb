{
 "cells": [
  {
   "cell_type": "code",
   "execution_count": 3,
   "metadata": {
    "_kg_hide-input": false
   },
   "outputs": [
    {
     "name": "stdout",
     "output_type": "stream",
     "text": [
      "_________________________________________________________________\n",
      "Layer (type)                 Output Shape              Param #   \n",
      "=================================================================\n",
      "conv2d_13 (Conv2D)           (None, 32, 32, 32)        896       \n",
      "_________________________________________________________________\n",
      "dropout_13 (Dropout)         (None, 32, 32, 32)        0         \n",
      "_________________________________________________________________\n",
      "conv2d_14 (Conv2D)           (None, 32, 32, 32)        9248      \n",
      "_________________________________________________________________\n",
      "max_pooling2d_7 (MaxPooling2 (None, 32, 16, 16)        0         \n",
      "_________________________________________________________________\n",
      "conv2d_15 (Conv2D)           (None, 64, 16, 16)        18496     \n",
      "_________________________________________________________________\n",
      "dropout_14 (Dropout)         (None, 64, 16, 16)        0         \n",
      "_________________________________________________________________\n",
      "conv2d_16 (Conv2D)           (None, 64, 16, 16)        36928     \n",
      "_________________________________________________________________\n",
      "max_pooling2d_8 (MaxPooling2 (None, 64, 8, 8)          0         \n",
      "_________________________________________________________________\n",
      "conv2d_17 (Conv2D)           (None, 128, 8, 8)         73856     \n",
      "_________________________________________________________________\n",
      "dropout_15 (Dropout)         (None, 128, 8, 8)         0         \n",
      "_________________________________________________________________\n",
      "conv2d_18 (Conv2D)           (None, 128, 8, 8)         147584    \n",
      "_________________________________________________________________\n",
      "max_pooling2d_9 (MaxPooling2 (None, 128, 4, 4)         0         \n",
      "_________________________________________________________________\n",
      "flatten_3 (Flatten)          (None, 2048)              0         \n",
      "_________________________________________________________________\n",
      "dropout_16 (Dropout)         (None, 2048)              0         \n",
      "_________________________________________________________________\n",
      "dense_7 (Dense)              (None, 1024)              2098176   \n",
      "_________________________________________________________________\n",
      "dropout_17 (Dropout)         (None, 1024)              0         \n",
      "_________________________________________________________________\n",
      "dense_8 (Dense)              (None, 512)               524800    \n",
      "_________________________________________________________________\n",
      "dropout_18 (Dropout)         (None, 512)               0         \n",
      "_________________________________________________________________\n",
      "dense_9 (Dense)              (None, 10)                5130      \n",
      "=================================================================\n",
      "Total params: 2,915,114\n",
      "Trainable params: 2,915,114\n",
      "Non-trainable params: 0\n",
      "_________________________________________________________________\n",
      "None\n",
      "Train on 50000 samples, validate on 10000 samples\n",
      "Epoch 1/25\n",
      "50000/50000 [==============================] - 8s 164us/step - loss: 1.9338 - acc: 0.2811 - val_loss: 1.5820 - val_acc: 0.4228\n",
      "Epoch 2/25\n",
      "50000/50000 [==============================] - 7s 145us/step - loss: 1.5107 - acc: 0.4495 - val_loss: 1.3485 - val_acc: 0.5089\n",
      "Epoch 3/25\n",
      "50000/50000 [==============================] - 7s 145us/step - loss: 1.3330 - acc: 0.5166 - val_loss: 1.2997 - val_acc: 0.5294\n",
      "Epoch 4/25\n",
      "50000/50000 [==============================] - 7s 148us/step - loss: 1.2056 - acc: 0.5665 - val_loss: 1.1656 - val_acc: 0.5732\n",
      "Epoch 5/25\n",
      "50000/50000 [==============================] - 7s 146us/step - loss: 1.0944 - acc: 0.6087 - val_loss: 1.0563 - val_acc: 0.6211\n",
      "Epoch 6/25\n",
      "50000/50000 [==============================] - 7s 145us/step - loss: 1.0042 - acc: 0.6409 - val_loss: 0.9438 - val_acc: 0.6676\n",
      "Epoch 7/25\n",
      "50000/50000 [==============================] - 7s 146us/step - loss: 0.9309 - acc: 0.6699 - val_loss: 0.8774 - val_acc: 0.6910\n",
      "Epoch 8/25\n",
      "50000/50000 [==============================] - 7s 146us/step - loss: 0.8628 - acc: 0.6941 - val_loss: 0.8518 - val_acc: 0.7044\n",
      "Epoch 9/25\n",
      "50000/50000 [==============================] - 7s 146us/step - loss: 0.8049 - acc: 0.7142 - val_loss: 0.8163 - val_acc: 0.7161\n",
      "Epoch 10/25\n",
      "50000/50000 [==============================] - 7s 145us/step - loss: 0.7556 - acc: 0.7299 - val_loss: 0.7566 - val_acc: 0.7364\n",
      "Epoch 11/25\n",
      "50000/50000 [==============================] - 7s 147us/step - loss: 0.7251 - acc: 0.7426 - val_loss: 0.7363 - val_acc: 0.7414\n",
      "Epoch 12/25\n",
      "50000/50000 [==============================] - 7s 149us/step - loss: 0.6792 - acc: 0.7598 - val_loss: 0.7297 - val_acc: 0.7452\n",
      "Epoch 13/25\n",
      "50000/50000 [==============================] - 7s 145us/step - loss: 0.6529 - acc: 0.7692 - val_loss: 0.7227 - val_acc: 0.7483\n",
      "Epoch 14/25\n",
      "50000/50000 [==============================] - 7s 147us/step - loss: 0.6243 - acc: 0.7789 - val_loss: 0.6901 - val_acc: 0.7567\n",
      "Epoch 15/25\n",
      "50000/50000 [==============================] - 8s 155us/step - loss: 0.5981 - acc: 0.7889 - val_loss: 0.6783 - val_acc: 0.7672\n",
      "Epoch 16/25\n",
      "50000/50000 [==============================] - 7s 146us/step - loss: 0.5774 - acc: 0.7957 - val_loss: 0.6520 - val_acc: 0.7762\n",
      "Epoch 17/25\n",
      "50000/50000 [==============================] - 7s 146us/step - loss: 0.5491 - acc: 0.8042 - val_loss: 0.6512 - val_acc: 0.7741\n",
      "Epoch 18/25\n",
      "50000/50000 [==============================] - 7s 145us/step - loss: 0.5332 - acc: 0.8104 - val_loss: 0.6379 - val_acc: 0.7793\n",
      "Epoch 19/25\n",
      "50000/50000 [==============================] - 7s 145us/step - loss: 0.5130 - acc: 0.8196 - val_loss: 0.6296 - val_acc: 0.7822\n",
      "Epoch 20/25\n",
      "50000/50000 [==============================] - 7s 144us/step - loss: 0.4939 - acc: 0.8257 - val_loss: 0.6434 - val_acc: 0.7821\n",
      "Epoch 21/25\n",
      "50000/50000 [==============================] - 7s 145us/step - loss: 0.4810 - acc: 0.8299 - val_loss: 0.6362 - val_acc: 0.7857\n",
      "Epoch 22/25\n",
      "50000/50000 [==============================] - 7s 145us/step - loss: 0.4642 - acc: 0.8361 - val_loss: 0.6150 - val_acc: 0.7898\n",
      "Epoch 23/25\n",
      "50000/50000 [==============================] - 7s 147us/step - loss: 0.4472 - acc: 0.8412 - val_loss: 0.6207 - val_acc: 0.7867\n",
      "Epoch 24/25\n",
      "50000/50000 [==============================] - 7s 145us/step - loss: 0.4357 - acc: 0.8450 - val_loss: 0.6094 - val_acc: 0.7952\n",
      "Epoch 25/25\n",
      "50000/50000 [==============================] - 7s 145us/step - loss: 0.4210 - acc: 0.8497 - val_loss: 0.6099 - val_acc: 0.7934\n",
      "Accuracy: 79.34%\n"
     ]
    },
    {
     "data": {
      "text/html": [
       "Path (<tt>cifar_10.h5</tt>) doesn't exist. It may still be in the process of being generated, or you may have the incorrect path."
      ],
      "text/plain": []
     },
     "execution_count": 3,
     "metadata": {},
     "output_type": "execute_result"
    }
   ],
   "source": [
    "import numpy\n",
    "from IPython.display import FileLink, FileLinks\n",
    "from keras.datasets import cifar10\n",
    "from keras.models import Sequential\n",
    "from keras.layers import Dense\n",
    "from keras.layers import Dropout\n",
    "from keras.layers import Flatten\n",
    "from keras.constraints import maxnorm\n",
    "from keras.optimizers import SGD\n",
    "from keras.layers.convolutional import Conv2D\n",
    "from keras.layers.convolutional import MaxPooling2D\n",
    "from keras.utils import np_utils\n",
    "from keras import backend as K\n",
    "K.set_image_dim_ordering('th')\n",
    "# fix random seed for reproducibility\n",
    "seed = 7\n",
    "numpy.random.seed(seed)\n",
    "# load data\n",
    "(X_train, y_train), (X_test, y_test) = cifar10.load_data()\n",
    "# normalize inputs from 0-255 to 0.0-1.0\n",
    "X_train = X_train.astype('float32')\n",
    "X_test = X_test.astype('float32')\n",
    "X_train = X_train / 255.0\n",
    "X_test = X_test / 255.0\n",
    "# one hot encode outputs\n",
    "y_train = np_utils.to_categorical(y_train)\n",
    "y_test = np_utils.to_categorical(y_test)\n",
    "num_classes = y_test.shape[1]\n",
    "# Create the model\n",
    "model = Sequential()\n",
    "model.add(Conv2D(32, (3, 3), input_shape=(3, 32, 32), activation='relu', padding='same'))\n",
    "model.add(Dropout(0.2))\n",
    "model.add(Conv2D(32, (3, 3), activation='relu', padding='same'))\n",
    "model.add(MaxPooling2D(pool_size=(2, 2)))\n",
    "model.add(Conv2D(64, (3, 3), activation='relu', padding='same'))\n",
    "model.add(Dropout(0.2))\n",
    "model.add(Conv2D(64, (3, 3), activation='relu', padding='same'))\n",
    "model.add(MaxPooling2D(pool_size=(2, 2)))\n",
    "model.add(Conv2D(128, (3, 3), activation='relu', padding='same'))\n",
    "model.add(Dropout(0.2))\n",
    "model.add(Conv2D(128, (3, 3), activation='relu', padding='same'))\n",
    "model.add(MaxPooling2D(pool_size=(2, 2)))\n",
    "model.add(Flatten())\n",
    "model.add(Dropout(0.2))\n",
    "model.add(Dense(1024, activation='relu', kernel_constraint=maxnorm(3)))\n",
    "model.add(Dropout(0.2))\n",
    "model.add(Dense(512, activation='relu', kernel_constraint=maxnorm(3)))\n",
    "model.add(Dropout(0.2))\n",
    "model.add(Dense(num_classes, activation='softmax'))\n",
    "# Compile model\n",
    "epochs = 25\n",
    "lrate = 0.01\n",
    "decay = lrate/epochs\n",
    "sgd = SGD(lr=lrate, momentum=0.9, decay=decay, nesterov=False)\n",
    "model.compile(loss='categorical_crossentropy', optimizer=sgd, metrics=['accuracy'])\n",
    "print(model.summary())\n",
    "# Fit the model\n",
    "model.fit(X_train, y_train, validation_data=(X_test, y_test), epochs=epochs, batch_size=64)\n",
    "# Final evaluation of the model\n",
    "scores = model.evaluate(X_test, y_test, verbose=0)\n",
    "print(\"Accuracy: %.2f%%\" % (scores[1]*100))\n",
    "\n",
    "model.save('cifar10.h5')\n",
    "\n",
    "FileLinks('cifar_10.h5')"
   ]
  },
  {
   "cell_type": "code",
   "execution_count": 2,
   "metadata": {},
   "outputs": [
    {
     "name": "stderr",
     "output_type": "stream",
     "text": [
      "Using TensorFlow backend.\n",
      "WARNING: Logging before flag parsing goes to stderr.\n",
      "W0916 16:38:08.663490 140736091947904 __init__.py:308] Limited tf.compat.v2.summary API due to missing TensorBoard installation.\n"
     ]
    }
   ],
   "source": [
    "import cv2\n",
    "from keras.models import load_model"
   ]
  },
  {
   "cell_type": "code",
   "execution_count": 3,
   "metadata": {},
   "outputs": [
    {
     "name": "stderr",
     "output_type": "stream",
     "text": [
      "W0916 16:38:10.525940 140736091947904 deprecation_wrapper.py:119] From //anaconda3/lib/python3.7/site-packages/keras/backend/tensorflow_backend.py:517: The name tf.placeholder is deprecated. Please use tf.compat.v1.placeholder instead.\n",
      "\n",
      "W0916 16:38:10.560186 140736091947904 deprecation_wrapper.py:119] From //anaconda3/lib/python3.7/site-packages/keras/backend/tensorflow_backend.py:4138: The name tf.random_uniform is deprecated. Please use tf.random.uniform instead.\n",
      "\n",
      "W0916 16:38:10.572719 140736091947904 deprecation_wrapper.py:119] From //anaconda3/lib/python3.7/site-packages/keras/backend/tensorflow_backend.py:245: The name tf.get_default_graph is deprecated. Please use tf.compat.v1.get_default_graph instead.\n",
      "\n",
      "W0916 16:38:10.573513 140736091947904 deprecation_wrapper.py:119] From //anaconda3/lib/python3.7/site-packages/keras/backend/tensorflow_backend.py:174: The name tf.get_default_session is deprecated. Please use tf.compat.v1.get_default_session instead.\n",
      "\n",
      "W0916 16:38:10.574090 140736091947904 deprecation_wrapper.py:119] From //anaconda3/lib/python3.7/site-packages/keras/backend/tensorflow_backend.py:181: The name tf.ConfigProto is deprecated. Please use tf.compat.v1.ConfigProto instead.\n",
      "\n",
      "W0916 16:38:10.607520 140736091947904 deprecation.py:506] From //anaconda3/lib/python3.7/site-packages/keras/backend/tensorflow_backend.py:3445: calling dropout (from tensorflow.python.ops.nn_ops) with keep_prob is deprecated and will be removed in a future version.\n",
      "Instructions for updating:\n",
      "Please use `rate` instead of `keep_prob`. Rate should be set to `rate = 1 - keep_prob`.\n",
      "W0916 16:38:10.634480 140736091947904 deprecation_wrapper.py:119] From //anaconda3/lib/python3.7/site-packages/keras/backend/tensorflow_backend.py:3976: The name tf.nn.max_pool is deprecated. Please use tf.nn.max_pool2d instead.\n",
      "\n",
      "W0916 16:38:11.093076 140736091947904 deprecation_wrapper.py:119] From //anaconda3/lib/python3.7/site-packages/keras/optimizers.py:790: The name tf.train.Optimizer is deprecated. Please use tf.compat.v1.train.Optimizer instead.\n",
      "\n",
      "W0916 16:38:11.173829 140736091947904 deprecation.py:323] From //anaconda3/lib/python3.7/site-packages/tensorflow/python/ops/math_grad.py:1250: add_dispatch_support.<locals>.wrapper (from tensorflow.python.ops.array_ops) is deprecated and will be removed in a future version.\n",
      "Instructions for updating:\n",
      "Use tf.where in 2.0, which has the same broadcast rule as np.where\n"
     ]
    }
   ],
   "source": [
    "new_model = load_model('cifar10.h5')"
   ]
  },
  {
   "cell_type": "code",
   "execution_count": 4,
   "metadata": {},
   "outputs": [],
   "source": [
    "img_width, img_height = 32, 32"
   ]
  },
  {
   "cell_type": "code",
   "execution_count": 5,
   "metadata": {},
   "outputs": [],
   "source": [
    "img = cv2.imread('test2.jpg')"
   ]
  },
  {
   "cell_type": "code",
   "execution_count": 6,
   "metadata": {},
   "outputs": [],
   "source": [
    "img = cv2.resize(img, (img_width, img_height))"
   ]
  },
  {
   "cell_type": "code",
   "execution_count": 7,
   "metadata": {},
   "outputs": [],
   "source": [
    "img = img.reshape(1, 3, img_width, img_height)"
   ]
  },
  {
   "cell_type": "code",
   "execution_count": 8,
   "metadata": {},
   "outputs": [],
   "source": [
    "img = img / 255"
   ]
  },
  {
   "cell_type": "code",
   "execution_count": 10,
   "metadata": {},
   "outputs": [],
   "source": [
    "result = new_model.predict_classes(img, batch_size = 1)"
   ]
  },
  {
   "cell_type": "code",
   "execution_count": 11,
   "metadata": {},
   "outputs": [
    {
     "name": "stdout",
     "output_type": "stream",
     "text": [
      "[2]\n"
     ]
    }
   ],
   "source": [
    "print(result)"
   ]
  },
  {
   "cell_type": "code",
   "execution_count": null,
   "metadata": {},
   "outputs": [],
   "source": []
  }
 ],
 "metadata": {
  "kernelspec": {
   "display_name": "Python 3",
   "language": "python",
   "name": "python3"
  },
  "language_info": {
   "codemirror_mode": {
    "name": "ipython",
    "version": 3
   },
   "file_extension": ".py",
   "mimetype": "text/x-python",
   "name": "python",
   "nbconvert_exporter": "python",
   "pygments_lexer": "ipython3",
   "version": "3.7.3"
  }
 },
 "nbformat": 4,
 "nbformat_minor": 1
}
